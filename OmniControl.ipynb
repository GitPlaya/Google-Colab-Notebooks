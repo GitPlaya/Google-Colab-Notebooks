{
  "nbformat": 4,
  "nbformat_minor": 0,
  "metadata": {
    "colab": {
      "provenance": [],
      "machine_shape": "hm",
      "gpuType": "A100"
    },
    "kernelspec": {
      "name": "python3",
      "display_name": "Python 3"
    },
    "language_info": {
      "name": "python"
    },
    "accelerator": "GPU"
  },
  "cells": [
    {
      "cell_type": "markdown",
      "source": [
        "# Installation"
      ],
      "metadata": {
        "id": "vWW33opXQ3x-"
      }
    },
    {
      "cell_type": "code",
      "execution_count": null,
      "metadata": {
        "id": "8DiEuiA1G4Ge"
      },
      "outputs": [],
      "source": [
        "%cd /content\n",
        "!git clone https://github.com/Yuanshi9815/OminiControl.git\n",
        "%cd OminiControl\n",
        "!pip install -r requirements.txt"
      ]
    },
    {
      "cell_type": "markdown",
      "source": [
        "## Run with Gradio"
      ],
      "metadata": {
        "id": "0JAjwOsDQyzP"
      }
    },
    {
      "cell_type": "markdown",
      "source": [],
      "metadata": {
        "id": "FHITATAjQ-M-"
      }
    },
    {
      "cell_type": "code",
      "source": [
        "!python -m src.gradio.gradio_app"
      ],
      "metadata": {
        "id": "fhbltxoCHw61"
      },
      "execution_count": null,
      "outputs": []
    }
  ]
}