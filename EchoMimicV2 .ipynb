{
  "nbformat": 4,
  "nbformat_minor": 0,
  "metadata": {
    "colab": {
      "provenance": [],
      "machine_shape": "hm",
      "gpuType": "A100"
    },
    "kernelspec": {
      "name": "python3",
      "display_name": "Python 3"
    },
    "language_info": {
      "name": "python"
    },
    "accelerator": "GPU"
  },
  "cells": [
    {
      "cell_type": "markdown",
      "source": [
        "# Installation\n"
      ],
      "metadata": {
        "id": "uieT4e3Tpoa0"
      }
    },
    {
      "cell_type": "code",
      "execution_count": null,
      "metadata": {
        "id": "DgV1-gDuq4HC"
      },
      "outputs": [],
      "source": [
        "# EchoMimicV2 Installation and Inference Notebook\n",
        "\n",
        "# 1. Clone the Repository\n",
        "!git clone https://github.com/antgroup/echomimic_v2\n",
        "%cd echomimic_v2\n",
        "\n",
        "# 2. Install System Dependencies\n",
        "# Update and install ffmpeg-static for video/audio processing\n",
        "!apt-get update && apt-get install -y ffmpeg\n",
        "\n",
        "# 3. Install Python Environment and Dependencies\n",
        "# Install necessary Python packages\n",
        "!pip install torch==2.5.1 torchvision==0.20.1 torchaudio==2.5.1 \\\n",
        "  xformers==0.0.28.post3 --index-url https://download.pytorch.org/whl/cu124\n",
        "!pip install torchao --index-url https://download.pytorch.org/whl/nightly/cu124\n",
        "!pip install -r requirements.txt\n",
        "!pip install --no-deps facenet_pytorch==2.6.0\n"
      ]
    },
    {
      "cell_type": "markdown",
      "source": [
        "# Download Pretrained Weights"
      ],
      "metadata": {
        "id": "m526eDh6pl8c"
      }
    },
    {
      "cell_type": "code",
      "source": [
        "# 4. Download Pretrained Weights\n",
        "!git lfs install\n",
        "!apt install aria2 -qqy\n",
        "\n",
        "!aria2c --console-log-level=error -c -x 16 -s 16 -k 1M https://huggingface.co/BadToBest/EchoMimicV2/resolve/main/denoising_unet.pth -d /content/echomimic_v2/pretrained_weights -o denoising_unet.pth\n",
        "!aria2c --console-log-level=error -c -x 16 -s 16 -k 1M https://huggingface.co/BadToBest/EchoMimicV2/resolve/main/motion_module.pth -d /content/echomimic_v2/pretrained_weights -o motion_module.pth\n",
        "!aria2c --console-log-level=error -c -x 16 -s 16 -k 1M https://huggingface.co/BadToBest/EchoMimicV2/resolve/main/reference_unet.pth -d /content/echomimic_v2/pretrained_weights -o reference_unet.pth\n",
        "!aria2c --console-log-level=error -c -x 16 -s 16 -k 1M https://huggingface.co/BadToBest/EchoMimicV2/resolve/main/pose_encoder.pth -d /content/echomimic_v2/pretrained_weights -o pose_encoder.pth\n",
        "!aria2c --console-log-level=error -c -x 16 -s 16 -k 1M https://openaipublic.azureedge.net/main/whisper/models/65147644a518d12f04e32d6f3b26facc3f8dd46e5390956a9424a650c0ce22b9/tiny.pt -d /content/echomimic_v2/pretrained_weights/audio_processor -o tiny.pt\n",
        "!git clone https://huggingface.co/lambdalabs/sd-image-variations-diffusers /content/echomimic_v2/pretrained_weights/sd-image-variations-diffusers\n",
        "!git clone https://huggingface.co/stabilityai/sd-vae-ft-mse /content/echomimic_v2/pretrained_weights/sd-vae-ft-mse"
      ],
      "metadata": {
        "id": "tStoe8IzpgS0"
      },
      "execution_count": null,
      "outputs": []
    },
    {
      "cell_type": "markdown",
      "source": [
        "# Launch Wit Gradio"
      ],
      "metadata": {
        "id": "aBYQXFVNp949"
      }
    },
    {
      "cell_type": "code",
      "source": [
        "!python app.py"
      ],
      "metadata": {
        "id": "E4InU1Hvrw21"
      },
      "execution_count": null,
      "outputs": []
    }
  ]
}