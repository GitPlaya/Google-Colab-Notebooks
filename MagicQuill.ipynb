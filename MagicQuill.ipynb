{
  "nbformat": 4,
  "nbformat_minor": 0,
  "metadata": {
    "colab": {
      "provenance": [],
      "gpuType": "T4"
    },
    "kernelspec": {
      "name": "python3",
      "display_name": "Python 3"
    },
    "language_info": {
      "name": "python"
    },
    "accelerator": "GPU"
  },
  "cells": [
    {
      "cell_type": "markdown",
      "source": [
        "\n",
        "\n",
        "Follow my Instagram : https://www.instagram.com/xsocialandapps\n",
        "\n"
      ],
      "metadata": {
        "id": "SdT3WeYyfkak"
      }
    },
    {
      "cell_type": "markdown",
      "source": [
        "\n",
        "\n",
        "# Instalation\n"
      ],
      "metadata": {
        "id": "J6Z5_ME2fN1U"
      }
    },
    {
      "cell_type": "code",
      "execution_count": null,
      "metadata": {
        "id": "4LTyZB7FyDhF"
      },
      "outputs": [],
      "source": [
        "%cd /content\n",
        "!git clone --recursive https://github.com/magic-quill/MagicQuill.git\n",
        "%cd /content/MagicQuill\n",
        "!pip install -r requirements.txt\n",
        "!pip install gradio_magicquill-0.0.1-py3-none-any.whl\n",
        "!cp -f pyproject.toml MagicQuill/LLaVA/\n",
        "!pip install -e MagicQuill/LLaVA/"
      ]
    },
    {
      "cell_type": "markdown",
      "source": [
        "# Download Models"
      ],
      "metadata": {
        "id": "hCFObw4ofRfj"
      }
    },
    {
      "cell_type": "code",
      "source": [
        "# Download the models.zip file (25GB approx.)\n",
        "!wget -O models.zip \"https://hkustconnect-my.sharepoint.com/:u:/g/personal/zliucz_connect_ust_hk/EWlGF0WfawJIrJ1Hn85_-3gB0MtwImAnYeWXuleVQcukMg?e=Gcjugg&download=1\"\n",
        "\n",
        "# Extract the contents into the current directory\n",
        "!unzip -o models.zip -d /content/MagicQuill"
      ],
      "metadata": {
        "id": "_wLSuzCnzbrW"
      },
      "execution_count": null,
      "outputs": []
    },
    {
      "cell_type": "markdown",
      "source": [
        "# Run with Gradio"
      ],
      "metadata": {
        "id": "5KMiquaJfUzj"
      }
    },
    {
      "cell_type": "markdown",
      "source": [
        "demo.launch(server_name=\"0.0.0.0\", server_port=7861, share=True)"
      ],
      "metadata": {
        "id": "n3_sXCwXfZVz"
      }
    },
    {
      "cell_type": "code",
      "source": [
        "!CUDA_VISIBLE_DEVICES=0 python gradio_run.py"
      ],
      "metadata": {
        "id": "wIF7bKLp3tin"
      },
      "execution_count": null,
      "outputs": []
    }
  ]
}