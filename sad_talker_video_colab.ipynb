{
  "cells": [
    {
      "cell_type": "markdown",
      "source": [
        "# Follow my Instagram - https://www.instagram.com/xsocialandapps/"
      ],
      "metadata": {
        "id": "YLpYoJIsZU-l"
      }
    },
    {
      "cell_type": "markdown",
      "metadata": {
        "id": "3fRNVd8lCPel"
      },
      "source": [
        "# Setup Dependecies and checkout project"
      ]
    },
    {
      "cell_type": "code",
      "execution_count": null,
      "metadata": {
        "id": "kiXa-uQ2_uLo"
      },
      "outputs": [],
      "source": [
        "!python --version\n",
        "!apt-get update\n",
        "!apt install ffmpeg &> /dev/null\n",
        "\n",
        "%cd /content\n",
        "!git clone https://github.com/zachysaur/SadTalker-Video.git\n",
        "%cd SadTalker-Video"
      ]
    },
    {
      "cell_type": "markdown",
      "metadata": {
        "id": "4nleW3KTCPep"
      },
      "source": [
        "# Download required packages & checkpoints"
      ]
    },
    {
      "cell_type": "code",
      "execution_count": null,
      "metadata": {
        "id": "SjgsGu4kANqe"
      },
      "outputs": [],
      "source": [
        "!pip install -r requirements.txt"
      ]
    },
    {
      "cell_type": "code",
      "execution_count": null,
      "metadata": {
        "id": "cANkCoKkAXQb"
      },
      "outputs": [],
      "source": [
        "!gdown https://drive.google.com/u/0/uc?id=1lW4mf5YNtS4MAD7ZkAauDDWp2N3_Qzs7&export=download"
      ]
    },
    {
      "cell_type": "code",
      "execution_count": null,
      "metadata": {
        "id": "bkcbn4L9lzt2"
      },
      "outputs": [],
      "source": [
        "!tar -xf /content/SadTalker-Video/checkpoints.tar.gz\n"
      ]
    },
    {
      "cell_type": "code",
      "source": [
        "import fileinput\n",
        "\n",
        "file_path = \"/usr/local/lib/python3.10/dist-packages/basicsr/data/degradations.py\"\n",
        "\n",
        "for line in fileinput.input(file_path, inplace=True):\n",
        "    print(line.replace(\n",
        "        \"from torchvision.transforms.functional_tensor import rgb_to_grayscale\",\n",
        "        \"from torchvision.transforms.functional import rgb_to_grayscale\"\n",
        "    ), end=\"\")"
      ],
      "metadata": {
        "id": "ffglhRmMZPGk"
      },
      "execution_count": null,
      "outputs": []
    },
    {
      "cell_type": "markdown",
      "metadata": {
        "id": "VVNmd_9sCPeq"
      },
      "source": [
        "# Inference the model"
      ]
    },
    {
      "cell_type": "code",
      "execution_count": null,
      "metadata": {
        "id": "NgH_C9zmmFoJ"
      },
      "outputs": [],
      "source": [
        "!python inference.py --driven_audio \"/content/2.wav\" \\\n",
        "                     --source_video \"/content/0.mp4\" \\\n",
        "                    --enhancer \"none\""
      ]
    }
  ],
  "metadata": {
    "accelerator": "GPU",
    "colab": {
      "gpuType": "T4",
      "provenance": []
    },
    "kernelspec": {
      "display_name": "Python 3",
      "name": "python3"
    },
    "language_info": {
      "codemirror_mode": {
        "name": "ipython",
        "version": 3
      },
      "file_extension": ".py",
      "mimetype": "text/x-python",
      "name": "python",
      "nbconvert_exporter": "python",
      "pygments_lexer": "ipython3",
      "version": "3.10.12"
    }
  },
  "nbformat": 4,
  "nbformat_minor": 0
}