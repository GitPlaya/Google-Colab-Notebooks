{
  "nbformat": 4,
  "nbformat_minor": 0,
  "metadata": {
    "colab": {
      "provenance": [],
      "gpuType": "A100",
      "machine_shape": "hm"
    },
    "kernelspec": {
      "name": "python3",
      "display_name": "Python 3"
    },
    "language_info": {
      "name": "python"
    },
    "accelerator": "GPU"
  },
  "cells": [
    {
      "cell_type": "markdown",
      "source": [
        "\n",
        "\n",
        "Follow my Instagram : https://www.instagram.com/xsocialandapps\n",
        "\n"
      ],
      "metadata": {
        "id": "SdT3WeYyfkak"
      }
    },
    {
      "cell_type": "markdown",
      "source": [
        "\n",
        "\n",
        "# Instalation\n"
      ],
      "metadata": {
        "id": "J6Z5_ME2fN1U"
      }
    },
    {
      "cell_type": "code",
      "execution_count": null,
      "metadata": {
        "id": "4LTyZB7FyDhF"
      },
      "outputs": [],
      "source": [
        "%cd /content\n",
        "!git clone --recursive https://github.com/magic-quill/MagicQuill.git\n",
        "%cd /content/MagicQuill\n",
        "!pip install -r requirements.txt\n",
        "!pip install gradio_magicquill-0.0.1-py3-none-any.whl\n",
        "!cp -f pyproject.toml MagicQuill/LLaVA/\n",
        "!pip install -e MagicQuill/LLaVA/"
      ]
    },
    {
      "cell_type": "markdown",
      "source": [
        "# Download Models"
      ],
      "metadata": {
        "id": "hCFObw4ofRfj"
      }
    },
    {
      "cell_type": "code",
      "source": [
        "# Download the models.zip file (25GB approx.)\n",
        "!wget -O models.zip \"https://hkustconnect-my.sharepoint.com/:u:/g/personal/zliucz_connect_ust_hk/EWlGF0WfawJIrJ1Hn85_-3gB0MtwImAnYeWXuleVQcukMg?e=Gcjugg&download=1\"\n",
        "\n",
        "# Extract the contents into the current directory\n",
        "!unzip -o models.zip -d /content/MagicQuill"
      ],
      "metadata": {
        "id": "_wLSuzCnzbrW"
      },
      "execution_count": null,
      "outputs": []
    },
    {
      "cell_type": "code",
      "source": [
        "\n",
        "# --- Variables ---\n",
        "\n",
        "Ngrok_token = \"\"  # Update with your ngrok token\n",
        "Ngrok_domain = \"\"  # optional, leave empty if you don't have a domain\n",
        "port = 7860\n",
        "HOME_FOLDER = \"/content/MagicQuill\"\n",
        "\n",
        "# -----------------\n",
        "\n",
        "!pip install pyngrok==6.1.0  # Downgrade to a version that supports ngrok tunneling\n",
        "\n",
        "from pyngrok import ngrok, conf\n",
        "import gc\n",
        "\n",
        "gc.collect()\n",
        "\n",
        "if Ngrok_token:\n",
        "    try:\n",
        "        ngrok.set_auth_token(Ngrok_token)\n",
        "        ngrok.kill()\n",
        "        srv = ngrok.connect(port)\n",
        "        print(f\"Ngrok Tunnel is active at: {srv.public_url}\")\n",
        "\n",
        "        # Command to start\n",
        "        !echo -e \"A\\nN\" | python /content/MagicQuill/gradio_run.py\n",
        "\n",
        "    except Exception as e:\n",
        "        print(f\"Error starting ngrok tunnel: {e}\")\n",
        "else:\n",
        "    print('An ngrok token is required. You can get one on https://ngrok.com and paste it into the Ngrok_token field.')\n"
      ],
      "metadata": {
        "id": "YHWqvHuG_sT-"
      },
      "execution_count": null,
      "outputs": []
    }
  ]
}