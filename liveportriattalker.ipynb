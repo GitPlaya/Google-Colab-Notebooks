{
  "nbformat": 4,
  "nbformat_minor": 0,
  "metadata": {
    "colab": {
      "provenance": [],
      "gpuType": "T4"
    },
    "kernelspec": {
      "name": "python3",
      "display_name": "Python 3"
    },
    "language_info": {
      "name": "python"
    },
    "accelerator": "GPU"
  },
  "cells": [
    {
      "cell_type": "markdown",
      "source": [
        "https://www.youtube.com/@socialapps1194"
      ],
      "metadata": {
        "id": "QVQnYiEbPcoW"
      }
    },
    {
      "cell_type": "markdown",
      "source": [
        "\n",
        "\n",
        "![324569059_925651638448708_3179953627804665398_n.jpg](data:image/jpeg;base64,/9j/4AAQSkZJRgABAQAAAQABAAD/7QCEUGhvdG9zaG9wIDMuMAA4QklNBAQAAAAAAGgcAigAYkZCTUQwYTAwMGE2ZTAxMDAwMGEwMDIwMDAwNjEwNDAwMDBjYjA0MDAwMDQxMDUwMDAwYjEwNzAwMDAyMjBhMDAwMGExMGEwMDAwMjYwYjAwMDBhOTBiMDAwMDgzMGYwMDAwAP/bAEMABgQFBgUEBgYFBgcHBggKEAoKCQkKFA4PDBAXFBgYFxQWFhodJR8aGyMcFhYgLCAjJicpKikZHy0wLSgwJSgpKP/bAEMBBwcHCggKEwoKEygaFhooKCgoKCgoKCgoKCgoKCgoKCgoKCgoKCgoKCgoKCgoKCgoKCgoKCgoKCgoKCgoKCgoKP/CABEIAJYAlgMBIgACEQEDEQH/xAAbAAEAAwEBAQEAAAAAAAAAAAAABAUGAwIHAf/EABgBAQEBAQEAAAAAAAAAAAAAAAACAQME/9oADAMBAAIQAxAAAAH6oAAAeD2iedmahS830GgAAAAD8PGE0nznr57CPpcpUQdbOwm8/s3fJajj7eomgAAAEKbDMrg95807efS08/UONNWQfWdNxr8fuJ79hFgAAAFRblbk9zCqPnv5qKLrxg3dhcR0lyvHvn1Ki3AAABXHiwwHO4ufcW5bE9eINZc5LSRZ2Vf5WmZsbnI3mVZCdAAQ5gxUH6HzqMvp+tBlV1BbSaydd4TYTtHB3nOpzd/JTQZoAAACusaTcj95VkZ+yidtWYnQAAAAAHHtG3Kq+zmjK79j9KWgjQAAAAAOeP19TfOp1mbtd2h43ceo0n7Al8+vQToAAAAAAAAAAAH/xAAmEAACAgEEAgICAwEAAAAAAAACAwEEAAUREhMUMCEjFSIgJUAz/9oACAEBAAEFAv8AURcc7vjvzyIiBKCj2yWXdULul9qcc6xADqVsM0zUu/EshoeucYfBdD5LUdvH3xihmhp4EnUKhfcqeQeqwfDLbP61T+srepd6+3Pyv0A2JeDONqlO9f1WUdwuTPjGBKPTCrbkGnwN41E/T1S2zVrFaelcKX67lbvh6mhnCrMyutkDX3TTsPysgUK9Va8D7eGwAxji5W65tyK6WEEPrKr2dxAxMcTeBmoejgMWAODjVefLShnxdS269RFMUdiKlq4l5mkbwTWdY1I2d/O1JRl5kijTrNjqs2u4B+jG3Vi0Pxqyi6NhdkO5Nd3zqtiwDXH80N5R/KwMzFsLHUtfAKtE5aYCeanTM48F05Rp7KJYyrxjrZZjciF7Yrr61ejrDfNTIoJLiskdJIRLWC3TiI6mQAxPstKWzEII60pceMr7lUGBX7tROQLT53rZqBcc04udX3FG40J42cD93h+r/dJRsj9dUyrOcvv9rP8AmY6hvXg/LP5AvIkVDblu/tbygJczIF7HwpmDLE402nixPIj/AE//xAAiEQACAgIABgMAAAAAAAAAAAABAgARAyASEyEiMDFAcfH/2gAIAQMBAT8B0seFzf0Jh4Mi3UxvYJUVUBvdR3EGHIMPaBAFVCYg6bsit7hxgfsGJdy1aFqqDXh63oyAivls4X3AbnNX1L83/8QAHxEAAgICAwADAAAAAAAAAAAAAAECERIgITAxEEFh/9oACAECAQE/AdMWV0RVDtH4xqtkS8TRWXJy5E3zvGTXgmxylvV/LMb5HrlxR6IYpl7Is+uhD6YqxoxGu7//xAA2EAABAwICBggEBgMAAAAAAAABAAIRAxIhMRMiMEFRYQQQMjNxgZGhI0BCYiAkcpKx0VOC4f/aAAgBAQAGPwL5uYWQ9VJBUgztinUujNBt7TnZLWrR+loClteoTzhSbXDmEY1XjMKR57XpD+Bj0Cpz9RkrzQRZAixMBydqp/NoKB2YVc8bk0jcrQ2Oqy3GIlUSMw8L/U/ygeZ2YxLSMin0H54iVbUbDgi3pLRjkSpOijxR0DbWJrvoYZJUg2taMSgxuQ2mBh6ivSuZzFwXc0/IruW/uWpRpk+qGro6fMR7IMZ68dnWoAGafv1C5wE8Svh2xhioc+RzCsY+kXcnIEVJjcRmnacsaQVLHBw4jqq9FAN1MTOxvBE8FhuwVd1uro7Q7zRkRvQv7q8aT9KcTaBGpHHdCaX9rCUxwGGAlV5FoLpAUpzzhI37DCoxgIxuTn064DrJGCbUfUJe4SU1kQ5NZ9gWjqsdBEyMfbNXjPgGH+kdGwhsxJKfUjsvBQczwVAMrWsfUtdIlD4zZuzIWsZM7vxy1jXkbiu7gRavZMqvwAxhawTbbTHE/wDF2WfuH9JmkOACLBgCIWti3imOaJLXB48U06Lycg3DDhsZtE+HVQDXuZc8AwniqT8OpaCM4KuZc1wxBBVTozHuZTZTukZzCpue4uJGZ6pDQPLa/EYHRlKpWECCf5VphvNUm1QHdqfZFrRDQdvRDX23PtPghyJHv1CHWkNcZTHTJOJ+Qrs3Z9VWd2CjiNvmEfuZ1VXcXFMx37Z0cFg3occLEwVGsa/7MkQvy9Ojh/kx9EzTjo1s/Q2CNsbc13bfdXhtsDgsSi2wETwKhtIehWPzX//EACgQAQACAQMEAQQDAQEAAAAAAAEAESExQVEwYXGBsRChwdFAkfAg4f/aAAgBAQABPyH+UQzrxK0Dzy1KwqmCLlAQ7dYil5C3tLeVUrB47zK5P+xuIvJB+IZ/Q37ky3LrePyTdmYHD1BZDGgAav7RWAXrQVG75Q97UVvUJurf7EpK0cE+SWtrXTtZ6x+an+J2S5WlN203cMBzhm7Ml8v2M0LcIzVr8nTDiSIdc9Y3oxwzWDD2t2IlOpEPaQ/Mrl4nK2maVMF67S33va9QLarA7PZg9Ut/ukchd3Cf+sT7ci8KD609RZhyrVc9MFZ6tfb6IB/RguGZaRbtZor3QM+WPuJbGVIu01Z3rM06O1oSr3gJl0Sz6ULRz4efk6C0ZmldWwBd+Iwdyx3gqNDwHJPcXnig8bTcwjR3Z9c9pWpbuuO13utIBTI92IJ0H2NYTs8T5hIi4OxAIDe9ehiGBYQ9VDVRSeOoM5xjxNQDlOYUboHsjQykouPZ+EGtTkXT1BjQpFbu4NIw3wCq/UdUyFmZdVVQvRm81mGaEVwfUev+z+RJHEtjK5AeYhFUAC+CZNNk1d4ZuGjuTXGHaK9ojhPtr+XxELwIbt39QTxzAnD8PvGNLYllOSKK92+TmI/6GOiBR330GlrRqyYqpepWXb9oyclyAalXsFaSs2/7WGQIuppEEpLJfncnVImCXRpKVBlvZ1L0CSm9wxuBDZ0QtTIBt17xMsAwQBs+7PotgAndiXLWid065s0XNocCfSriOlPHN1nSApk8xUc5Pk+l3DqpRUDow9usVoW7OYDXfJiPCjLZx1svTSqmNNKVErVst6PA/MyQh+4LlOeqkiO0S4bDd4/WCxmi7fmVd2WbbEeTxBMp2T9SiVqMfyf/2gAMAwEAAgADAAAAEPPPOO+/PPPPPOL6LnfPPPPPqeg6PPPPPPPollNPPPKoYxC9lPPPPC7Lg0HfPPPPOf1fPPPPPPNVXPPPPPPPFHcUNPPPPPPPPPPPPP/EACQRAQACAQQBAwUAAAAAAAAAAAEAESEgMDFBcVGR0RBhscHw/9oACAEDAQE/ENCXLBHYso8F+YsDIHiQ7lS9TCe2r2qLLahlKsjBv+xr4nHqL93zCt1b929TAYev0R6gViCh64mGNKUvqAHEVvEIK4VkgVqZVzvYYTvYer8H9SvZEHlfh+ILe//EAB8RAQACAgMBAAMAAAAAAAAAAAEAESExIDBBcVGRwf/aAAgBAgEBPxDgJ5FG+ipfrGm43YtjzypuJ+hBCzBAQFVzwUKM1+pWrXILamL5NUEsiuGb8IfeA1CuCWqCzMtuKNuY25byxiPQOZvKx0OMQ7ywTn+kE97v/8QAKBABAQACAQIGAgIDAQAAAAAAAREAITFBUTBhcYGRsRChwdEgQPDh/9oACAEBAAE/EP8AaWKHorblSAF1YTeT2YRgWIiQ5wso9V4zQk89DcfePxirdkTyw2/gxO/mgnyF+8NBRQgYLxk5vEXb+HAkoxkFMo9zW9mGEKbNeaPyPoniaip3jM1GCj0p9uGBEF97Jv6w0xSKOsMbx/Vwmel9DYPreuQoBkdNJ+wylBSoIin0YiqrZ7pp8NuOL16T+82lyP4GA+FbF2UmHGQrUPowVkIMmIYnap4k47zD22g6xj+cQ1a+Ir+c5BWem/hlFmobLyJ1MMqb0AW+g0xpnQc9zueZjnaCZe4Pb1xUBF0FfYbgPTgyWcx0uakxONGxXdZrGqzm8rEB3gt6Zq2qC6laq91fEEnKpKPY7efTH3CUoHkCnviCDtR+ByPf/D54AlLoF8G8mMNjCPJ2+8MskB6oOV/2vDsKXIkM06RHnnn8I+2EF3S8489SLe3EZwHzltKSh8ugCyZslgi1cwu8vGoAOgiApdb1DGl8BLghit5PbOLMRt7n4F+awayJyT3N9vAJFAHK4qhSUYlqKuhrcsIKq6DkywN0ZJeVdIe2OTjxOXyPLWEA04Ej55vo9zBxTihh9QfwuAKtD1Vi6gYmjgPWXHvpLFRlAedffEjAnWYG6CZD0NK94uDSnH+ZiApJAjxsL6uD+3nTRp9uXnBTQFAR5BrBWaUqozRPfphhJFPDZflX4w/URR5lSIiWjXOBT30geXB+sIOGxQ6i6E0t3wZSgmPv/wCWSlJ7lNJPjCqyX3Co70LonGMEMsCNpwI+XOWHiFqYGq3P87XiDOe4oxxyvZEstouuxoMVyMC2BDEtJxNVjXR6bwEA+onk5V6xgMwWlIe5wu8EJPSr2H1YEooF9LYUJWjRo6ZJaIkFJcAC6UFoK4ToQNvfHh5M44HIidv4MWETAgL3CoT0NZuT0BIF0BrwEHpkCdWBb+HvkjuipT0MtBvhdQDsdeg3vFKFJBKJ2x/jXoFsKxKTuvTEQFRUoX7xkJNIlHPJwoHJ4nIdxS67PPCpf4qqkedu37wxkjJRJQNv6zk9cAUAe+jj+sLnM8BBh44lLF3Frs06wS5Q2qEL5yfi26mjAQI6R3iaS9Q1FIeOkER1LijgkTUaj9n4iiIdLJ/7gRECIcKRH78ZxPYwhrCSblohCHTSY4W21qtc/WMRJKDyjxiAbo2cOPfNpmyznta31xu/j6K6O1UuFTvhD9cNkUxsQoHLkQ6JSra+mHEgKrboVsvJMF4GCPXxDFMqAd9hMArDnR+qxqYJkReBi8dDF6pgK3CharsI85PE+rf7B+8UzPsuDbcL1/2P/9k=)"
      ],
      "metadata": {
        "id": "3XxLOjTKM_4m"
      }
    },
    {
      "cell_type": "markdown",
      "source": [
        "Follow my instagram https://www.instagram.com/xsocialandapps/"
      ],
      "metadata": {
        "id": "mpSAqDGnOTK9"
      }
    },
    {
      "cell_type": "markdown",
      "source": [
        "# Installation"
      ],
      "metadata": {
        "id": "DbiD9hbeN2YX"
      }
    },
    {
      "cell_type": "code",
      "execution_count": null,
      "metadata": {
        "id": "j34AObu779FM"
      },
      "outputs": [],
      "source": [
        "%cd /content\n",
        "!git clone https://github.com/zachysaur/liveportrait_talker.git\n",
        "%cd liveportrait_talker\n",
        "!pip3 install torch torchvision torchaudio --index-url https://download.pytorch.org/whl/cu118\n",
        "!pip install -r requirements.txt\n",
        "!pip install onnxruntime-gpu==1.18.0"
      ]
    },
    {
      "cell_type": "markdown",
      "source": [
        "# Download models"
      ],
      "metadata": {
        "id": "hk6FVdiUNF6F"
      }
    },
    {
      "cell_type": "code",
      "source": [
        "!sh scripts/download_models.sh"
      ],
      "metadata": {
        "id": "DyT717-6945j"
      },
      "execution_count": null,
      "outputs": []
    },
    {
      "cell_type": "markdown",
      "source": [
        "# Synthetic Head Pose Generation\n"
      ],
      "metadata": {
        "id": "DLqEbW-pNRdk"
      }
    },
    {
      "cell_type": "code",
      "source": [
        "!python inference.py --config_path config.yaml --source_path /content/liveportrait_talker/src/Z.png --audio_path /content/liveportrait_talker/src/audio.wav --save_path /content/liveportrait_talker/src/\n"
      ],
      "metadata": {
        "id": "6Esg0gS3-Vz7"
      },
      "execution_count": null,
      "outputs": []
    },
    {
      "cell_type": "markdown",
      "source": [
        "# Reference Head Pose"
      ],
      "metadata": {
        "id": "Y4Tik9YzNdmc"
      }
    },
    {
      "cell_type": "code",
      "source": [
        "!python inference.py --config_path config.yaml --source_path /content/liveportrait_talker/src/Z.png --audio_path /content/liveportrait_talker/src/audio.wav --save_path /content/liveportrait_talker/src/ --ref_head_pose_path /content/liveportrait_talker/src/5.mp4\n"
      ],
      "metadata": {
        "id": "wbC_DbftCeFU"
      },
      "execution_count": null,
      "outputs": []
    },
    {
      "cell_type": "markdown",
      "source": [
        "# ref_frames_from_zero"
      ],
      "metadata": {
        "id": "iMUcENfMNurF"
      }
    },
    {
      "cell_type": "code",
      "source": [
        "!python inference.py --config_path config.yaml --source_path /content/liveportrait_talker/src/Z.png --audio_path /content/liveportrait_talker/src/audio.wav --save_path /content/liveportrait_talker/src/ --ref_head_pose_path /content/liveportrait_talker/src/5.mp4 --ref_frames_from_zero\n"
      ],
      "metadata": {
        "id": "P1HRjteAIVel"
      },
      "execution_count": null,
      "outputs": []
    },
    {
      "cell_type": "markdown",
      "source": [
        "# Still"
      ],
      "metadata": {
        "id": "RLYcduXINoKs"
      }
    },
    {
      "cell_type": "code",
      "source": [
        "!python inference.py --config_path config.yaml --source_path /content/liveportrait_talker/src/Z.png --audio_path /content/liveportrait_talker/src/audio.wav --save_path /content/liveportrait_talker/src/ --still"
      ],
      "metadata": {
        "id": "BoKQQz0wIgil"
      },
      "execution_count": null,
      "outputs": []
    }
  ]
}